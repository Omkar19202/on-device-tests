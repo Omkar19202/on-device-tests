{
  "nbformat": 4,
  "nbformat_minor": 0,
  "metadata": {
    "colab": {
      "provenance": [],
      "gpuType": "T4",
      "authorship_tag": "ABX9TyOKzVBEKEFwhwunIn/mZ4px",
      "include_colab_link": true
    },
    "kernelspec": {
      "name": "python3",
      "display_name": "Python 3"
    },
    "language_info": {
      "name": "python"
    },
    "accelerator": "GPU"
  },
  "cells": [
    {
      "cell_type": "markdown",
      "metadata": {
        "id": "view-in-github",
        "colab_type": "text"
      },
      "source": [
        "<a href=\"https://colab.research.google.com/github/Omkar19202/on-device-tests/blob/main/Document_AI_test.ipynb\" target=\"_parent\"><img src=\"https://colab.research.google.com/assets/colab-badge.svg\" alt=\"Open In Colab\"/></a>"
      ]
    },
    {
      "cell_type": "code",
      "execution_count": 1,
      "metadata": {
        "colab": {
          "base_uri": "https://localhost:8080/",
          "height": 510
        },
        "id": "muZusPmS_nRy",
        "outputId": "d14396ea-8fde-437b-b9d8-9a6d68298429"
      },
      "outputs": [
        {
          "output_type": "stream",
          "name": "stdout",
          "text": [
            "Collecting google-cloud-documentai\n",
            "  Downloading google_cloud_documentai-2.27.0-py2.py3-none-any.whl (309 kB)\n",
            "\u001b[?25l     \u001b[90m━━━━━━━━━━━━━━━━━━━━━━━━━━━━━━━━━━━━━━━━\u001b[0m \u001b[32m0.0/309.3 kB\u001b[0m \u001b[31m?\u001b[0m eta \u001b[36m-:--:--\u001b[0m\r\u001b[2K     \u001b[91m━━━━━━━━━━━━━━━━━━━━━━━━━━━━━━━━━━━━━━━\u001b[0m\u001b[91m╸\u001b[0m \u001b[32m307.2/309.3 kB\u001b[0m \u001b[31m9.6 MB/s\u001b[0m eta \u001b[36m0:00:01\u001b[0m\r\u001b[2K     \u001b[90m━━━━━━━━━━━━━━━━━━━━━━━━━━━━━━━━━━━━━━━━\u001b[0m \u001b[32m309.3/309.3 kB\u001b[0m \u001b[31m7.5 MB/s\u001b[0m eta \u001b[36m0:00:00\u001b[0m\n",
            "\u001b[?25hRequirement already satisfied: google-api-core[grpc]!=2.0.*,!=2.1.*,!=2.10.*,!=2.2.*,!=2.3.*,!=2.4.*,!=2.5.*,!=2.6.*,!=2.7.*,!=2.8.*,!=2.9.*,<3.0.0dev,>=1.34.1 in /usr/local/lib/python3.10/dist-packages (from google-cloud-documentai) (2.11.1)\n",
            "Requirement already satisfied: google-auth!=2.24.0,!=2.25.0,<3.0.0dev,>=2.14.1 in /usr/local/lib/python3.10/dist-packages (from google-cloud-documentai) (2.27.0)\n",
            "Requirement already satisfied: proto-plus<2.0.0dev,>=1.22.3 in /usr/local/lib/python3.10/dist-packages (from google-cloud-documentai) (1.23.0)\n",
            "Requirement already satisfied: protobuf!=3.20.0,!=3.20.1,!=4.21.0,!=4.21.1,!=4.21.2,!=4.21.3,!=4.21.4,!=4.21.5,<5.0.0dev,>=3.19.5 in /usr/local/lib/python3.10/dist-packages (from google-cloud-documentai) (3.20.3)\n",
            "Requirement already satisfied: googleapis-common-protos<2.0.dev0,>=1.56.2 in /usr/local/lib/python3.10/dist-packages (from google-api-core[grpc]!=2.0.*,!=2.1.*,!=2.10.*,!=2.2.*,!=2.3.*,!=2.4.*,!=2.5.*,!=2.6.*,!=2.7.*,!=2.8.*,!=2.9.*,<3.0.0dev,>=1.34.1->google-cloud-documentai) (1.63.0)\n",
            "Requirement already satisfied: requests<3.0.0.dev0,>=2.18.0 in /usr/local/lib/python3.10/dist-packages (from google-api-core[grpc]!=2.0.*,!=2.1.*,!=2.10.*,!=2.2.*,!=2.3.*,!=2.4.*,!=2.5.*,!=2.6.*,!=2.7.*,!=2.8.*,!=2.9.*,<3.0.0dev,>=1.34.1->google-cloud-documentai) (2.31.0)\n",
            "Requirement already satisfied: grpcio<2.0dev,>=1.33.2 in /usr/local/lib/python3.10/dist-packages (from google-api-core[grpc]!=2.0.*,!=2.1.*,!=2.10.*,!=2.2.*,!=2.3.*,!=2.4.*,!=2.5.*,!=2.6.*,!=2.7.*,!=2.8.*,!=2.9.*,<3.0.0dev,>=1.34.1->google-cloud-documentai) (1.62.2)\n",
            "Requirement already satisfied: grpcio-status<2.0.dev0,>=1.33.2 in /usr/local/lib/python3.10/dist-packages (from google-api-core[grpc]!=2.0.*,!=2.1.*,!=2.10.*,!=2.2.*,!=2.3.*,!=2.4.*,!=2.5.*,!=2.6.*,!=2.7.*,!=2.8.*,!=2.9.*,<3.0.0dev,>=1.34.1->google-cloud-documentai) (1.48.2)\n",
            "Requirement already satisfied: cachetools<6.0,>=2.0.0 in /usr/local/lib/python3.10/dist-packages (from google-auth!=2.24.0,!=2.25.0,<3.0.0dev,>=2.14.1->google-cloud-documentai) (5.3.3)\n",
            "Requirement already satisfied: pyasn1-modules>=0.2.1 in /usr/local/lib/python3.10/dist-packages (from google-auth!=2.24.0,!=2.25.0,<3.0.0dev,>=2.14.1->google-cloud-documentai) (0.4.0)\n",
            "Requirement already satisfied: rsa<5,>=3.1.4 in /usr/local/lib/python3.10/dist-packages (from google-auth!=2.24.0,!=2.25.0,<3.0.0dev,>=2.14.1->google-cloud-documentai) (4.9)\n",
            "Requirement already satisfied: pyasn1<0.7.0,>=0.4.6 in /usr/local/lib/python3.10/dist-packages (from pyasn1-modules>=0.2.1->google-auth!=2.24.0,!=2.25.0,<3.0.0dev,>=2.14.1->google-cloud-documentai) (0.6.0)\n",
            "Requirement already satisfied: charset-normalizer<4,>=2 in /usr/local/lib/python3.10/dist-packages (from requests<3.0.0.dev0,>=2.18.0->google-api-core[grpc]!=2.0.*,!=2.1.*,!=2.10.*,!=2.2.*,!=2.3.*,!=2.4.*,!=2.5.*,!=2.6.*,!=2.7.*,!=2.8.*,!=2.9.*,<3.0.0dev,>=1.34.1->google-cloud-documentai) (3.3.2)\n",
            "Requirement already satisfied: idna<4,>=2.5 in /usr/local/lib/python3.10/dist-packages (from requests<3.0.0.dev0,>=2.18.0->google-api-core[grpc]!=2.0.*,!=2.1.*,!=2.10.*,!=2.2.*,!=2.3.*,!=2.4.*,!=2.5.*,!=2.6.*,!=2.7.*,!=2.8.*,!=2.9.*,<3.0.0dev,>=1.34.1->google-cloud-documentai) (3.7)\n",
            "Requirement already satisfied: urllib3<3,>=1.21.1 in /usr/local/lib/python3.10/dist-packages (from requests<3.0.0.dev0,>=2.18.0->google-api-core[grpc]!=2.0.*,!=2.1.*,!=2.10.*,!=2.2.*,!=2.3.*,!=2.4.*,!=2.5.*,!=2.6.*,!=2.7.*,!=2.8.*,!=2.9.*,<3.0.0dev,>=1.34.1->google-cloud-documentai) (2.0.7)\n",
            "Requirement already satisfied: certifi>=2017.4.17 in /usr/local/lib/python3.10/dist-packages (from requests<3.0.0.dev0,>=2.18.0->google-api-core[grpc]!=2.0.*,!=2.1.*,!=2.10.*,!=2.2.*,!=2.3.*,!=2.4.*,!=2.5.*,!=2.6.*,!=2.7.*,!=2.8.*,!=2.9.*,<3.0.0dev,>=1.34.1->google-cloud-documentai) (2024.2.2)\n",
            "Installing collected packages: google-cloud-documentai\n",
            "Successfully installed google-cloud-documentai-2.27.0\n"
          ]
        },
        {
          "output_type": "display_data",
          "data": {
            "application/vnd.colab-display-data+json": {
              "pip_warning": {
                "packages": [
                  "google"
                ]
              },
              "id": "6af3855172b342319b3724986b38ec8e"
            }
          },
          "metadata": {}
        }
      ],
      "source": [
        "!pip install --upgrade google-cloud-documentai"
      ]
    },
    {
      "cell_type": "code",
      "source": [
        "from google.cloud import documentai_v1beta3 as documentai\n",
        "import os\n",
        "\n",
        "# Set the path to the service account key file\n",
        "os.environ[\"GOOGLE_APPLICATION_CREDENTIALS\"] = \"/content/AI_document.json\"\n",
        "\n",
        "# Initialize the client\n",
        "client = documentai.DocumentProcessorServiceClient()\n",
        "\n",
        "# Define the processor resource name\n",
        "processor_name = 'projects/hushone-app/locations/us/processors/a3790e8d2124604a'\n",
        "\n",
        "# Read the contents of the document from your local machine\n",
        "with open('/content/T2WQQY_Makan.pdf', 'rb') as f:\n",
        "    document_content = f.read()\n",
        "\n",
        "# Define the input config with the document content and mime type\n",
        "input_config = {\n",
        "    'content': document_content,\n",
        "    'mime_type': 'application/pdf'\n",
        "}\n",
        "\n",
        "# Define the request\n",
        "request = {\n",
        "    'name': processor_name,\n",
        "    'inline_document': input_config\n",
        "}\n",
        "\n",
        "# Process the document\n",
        "result = client.process_document(request=request)\n",
        "\n",
        "# Retrieve the processed document\n",
        "document = result.document\n",
        "print(document.text)\n"
      ],
      "metadata": {
        "colab": {
          "base_uri": "https://localhost:8080/"
        },
        "id": "jgp7yPcAda9p",
        "outputId": "d2a7f14c-85c2-482f-a451-ea8e27025715"
      },
      "execution_count": 13,
      "outputs": [
        {
          "output_type": "stream",
          "name": "stdout",
          "text": [
            "Akasa Air\n",
            "IT'S YOUR SKY\n",
            "Tax Invoice\n",
            "(Original For Recipient)\n",
            "Invoice Date: 07-Jan-2023\n",
            "Invoice Number: 271T2WQQY0123001\n",
            "Name of Customer: Sarika Makan\n",
            "SNV AVIATION PRIVATE LIMITED\n",
            "Chhatrapati Shivaji Maharaj International Airport,\n",
            "Santacruz (East), Mumbai 400099,\n",
            "Maharashtra, India\n",
            "GSTIN/ Unique ID of Customer: Not Provided\n",
            "Place of Supply: Maharashtra\n",
            "GSTIN: 27ABECS9580P1ZC\n",
            "Flight No: QP1127\n",
            "Flight Date: 15-Jan-2023\n",
            "Flight From: BOM\n",
            "Flight To: DEL\n",
            "PNR: T2WQQY\n",
            "Currency: INR\n",
            "CGST\n",
            "SGST/UTGST\n",
            "IGST\n",
            "Description\n",
            "SAC Code\n",
            "Taxable\n",
            "Value\n",
            "Non Taxable/\n",
            "/Exempted\n",
            "Value\n",
            "Discount\n",
            "Total\n",
            "Total\n",
            "Amount\n",
            "(incl. tax)\n",
            "Rate\n",
            "Amount\n",
            "Rate\n",
            "Amount\n",
            "Rate\n",
            "Amount\n",
            "Air Travel and related charges\n",
            "996425\n",
            "3554\n",
            "0\n",
            "0\n",
            "3554\n",
            "2.5%\n",
            "89\n",
            "2.5%\n",
            "89\n",
            "0%\n",
            "0\n",
            "3732\n",
            "Airport Charges\n",
            "0\n",
            "378\n",
            "0\n",
            "378\n",
            "0\n",
            "0\n",
            "0\n",
            "0\n",
            "0\n",
            "0\n",
            "378\n",
            "Others\n",
            "0\n",
            "0\n",
            "0\n",
            "0\n",
            "9.0%\n",
            "0\n",
            "9.0%\n",
            "0\n",
            "0.0%\n",
            "0\n",
            "0\n",
            "Grand Total\n",
            "3554\n",
            "378\n",
            "0\n",
            "3932\n",
            "89\n",
            "89\n",
            "0\n",
            "4110\n",
            "Note I:\n",
            "Unless otherwise stated, tax on this invoice is not payable under reverse charge.\n",
            "Note II:\n",
            "\"I/We\" hereby declare that though our aggregate turnover in any preceding financial year from 2017-18 onwards is more\n",
            "than the aggregate turnover notified under sub-rule (4) of rule 48, we are not required to prepare an invoice in terms of\n",
            "the provisions of the said sub-rule 46 (s).\n",
            "1. Air travel and related charges: Includes all charges related to air transportation of passengers.\n",
            "2. Airport charges: Charges collected on behalf of airport authority (PSF, ADF, UDF etc). SNV Aviation Private\n",
            "Limited is a pure agent for these charges.\n",
            "3. Others: Includes service charges for Lounge, Medical Assistance, Travel Certificate, and all prepaid meals\n",
            "purchased before travel.\n",
            "4. All amounts have been rounded off to the nearest rupee.\n",
            "Mahendra\n",
            "Signature of Supplier/ Authorised Representative\n",
            "SNV Aviation Private Limited\n",
            "Corporate Office : 12th Floor, Urmi Estate, 95, Ganapatrao Kadam Marg, Lower Parel West, Mumbai, Maharastra, 400013.\n",
            "Telephone Number: +91 96061 12131 Visit: akasaair.com Write to us: info@akasaair.com\n",
            "CIN no. U63013MH2020PTC350653 | PAN no.ABECS9580P\n",
            "\n"
          ]
        }
      ]
    },
    {
      "cell_type": "code",
      "source": [],
      "metadata": {
        "id": "QaGGWiTOZFfR"
      },
      "execution_count": null,
      "outputs": []
    }
  ]
}